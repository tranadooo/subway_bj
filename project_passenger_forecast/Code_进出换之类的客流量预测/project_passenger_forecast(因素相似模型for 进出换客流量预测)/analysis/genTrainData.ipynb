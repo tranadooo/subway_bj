{
 "cells": [
  {
   "cell_type": "code",
   "execution_count": 7,
   "metadata": {},
   "outputs": [],
   "source": [
    "import os\n",
    "from pyhive import hive\n",
    "import pandas as pd\n",
    "import re\n",
    "import pickle as pl\n",
    "data_conn = hive.Connection(host='10.254.5.100',\n",
    "                           port=10000,\n",
    "                           username='ETL',\n",
    "                           database='default')\n",
    "# df = pd.read_sql('../sql/train_2020.sql',data_conn)\n",
    "df = pd.read_sql(open('../sql/train_2020.sql','r').read(),data_conn)"
   ]
  },
  {
   "cell_type": "code",
   "execution_count": 8,
   "metadata": {},
   "outputs": [
    {
     "data": {
      "text/html": [
       "<div>\n",
       "<style scoped>\n",
       "    .dataframe tbody tr th:only-of-type {\n",
       "        vertical-align: middle;\n",
       "    }\n",
       "\n",
       "    .dataframe tbody tr th {\n",
       "        vertical-align: top;\n",
       "    }\n",
       "\n",
       "    .dataframe thead th {\n",
       "        text-align: right;\n",
       "    }\n",
       "</style>\n",
       "<table border=\"1\" class=\"dataframe\">\n",
       "  <thead>\n",
       "    <tr style=\"text-align: right;\">\n",
       "      <th></th>\n",
       "      <th>line_id</th>\n",
       "      <th>station_id</th>\n",
       "      <th>日期</th>\n",
       "      <th>星期</th>\n",
       "      <th>疫情</th>\n",
       "      <th>季节</th>\n",
       "      <th>总量</th>\n",
       "      <th>分时序列</th>\n",
       "    </tr>\n",
       "  </thead>\n",
       "  <tbody>\n",
       "    <tr>\n",
       "      <th>0</th>\n",
       "      <td>92</td>\n",
       "      <td>9229</td>\n",
       "      <td>20200415</td>\n",
       "      <td>3</td>\n",
       "      <td>2.793</td>\n",
       "      <td>4</td>\n",
       "      <td>168.0</td>\n",
       "      <td>[3,11,30,11,7,5,5,2,4,1,10,15,20,22,13,5,3,0,1]</td>\n",
       "    </tr>\n",
       "    <tr>\n",
       "      <th>1</th>\n",
       "      <td>05</td>\n",
       "      <td>0523</td>\n",
       "      <td>20200415</td>\n",
       "      <td>3</td>\n",
       "      <td>2.793</td>\n",
       "      <td>4</td>\n",
       "      <td>24476.0</td>\n",
       "      <td>[288,1523,5764,7781,4356,898,649,641,490,365,2...</td>\n",
       "    </tr>\n",
       "    <tr>\n",
       "      <th>2</th>\n",
       "      <td>06</td>\n",
       "      <td>0625</td>\n",
       "      <td>20200415</td>\n",
       "      <td>3</td>\n",
       "      <td>2.793</td>\n",
       "      <td>4</td>\n",
       "      <td>6384.0</td>\n",
       "      <td>[15,109,410,567,279,133,132,164,139,151,167,44...</td>\n",
       "    </tr>\n",
       "    <tr>\n",
       "      <th>3</th>\n",
       "      <td>13</td>\n",
       "      <td>1325</td>\n",
       "      <td>20200415</td>\n",
       "      <td>3</td>\n",
       "      <td>2.793</td>\n",
       "      <td>4</td>\n",
       "      <td>8636.0</td>\n",
       "      <td>[23,56,196,349,231,126,82,110,133,99,159,475,1...</td>\n",
       "    </tr>\n",
       "    <tr>\n",
       "      <th>4</th>\n",
       "      <td>97</td>\n",
       "      <td>9712</td>\n",
       "      <td>20200415</td>\n",
       "      <td>3</td>\n",
       "      <td>2.793</td>\n",
       "      <td>4</td>\n",
       "      <td>4043.0</td>\n",
       "      <td>[56,344,940,1236,588,154,118,91,111,71,52,52,7...</td>\n",
       "    </tr>\n",
       "  </tbody>\n",
       "</table>\n",
       "</div>"
      ],
      "text/plain": [
       "  line_id station_id        日期 星期     疫情  季节       总量  \\\n",
       "0      92       9229  20200415  3  2.793   4    168.0   \n",
       "1      05       0523  20200415  3  2.793   4  24476.0   \n",
       "2      06       0625  20200415  3  2.793   4   6384.0   \n",
       "3      13       1325  20200415  3  2.793   4   8636.0   \n",
       "4      97       9712  20200415  3  2.793   4   4043.0   \n",
       "\n",
       "                                                分时序列  \n",
       "0    [3,11,30,11,7,5,5,2,4,1,10,15,20,22,13,5,3,0,1]  \n",
       "1  [288,1523,5764,7781,4356,898,649,641,490,365,2...  \n",
       "2  [15,109,410,567,279,133,132,164,139,151,167,44...  \n",
       "3  [23,56,196,349,231,126,82,110,133,99,159,475,1...  \n",
       "4  [56,344,940,1236,588,154,118,91,111,71,52,52,7...  "
      ]
     },
     "execution_count": 8,
     "metadata": {},
     "output_type": "execute_result"
    }
   ],
   "source": [
    "df.head()"
   ]
  },
  {
   "cell_type": "code",
   "execution_count": 12,
   "metadata": {},
   "outputs": [],
   "source": [
    "pl.dump(df,open('train_data_2020','wb'))"
   ]
  },
  {
   "cell_type": "code",
   "execution_count": 20,
   "metadata": {},
   "outputs": [
    {
     "data": {
      "text/html": [
       "<div>\n",
       "<style scoped>\n",
       "    .dataframe tbody tr th:only-of-type {\n",
       "        vertical-align: middle;\n",
       "    }\n",
       "\n",
       "    .dataframe tbody tr th {\n",
       "        vertical-align: top;\n",
       "    }\n",
       "\n",
       "    .dataframe thead th {\n",
       "        text-align: right;\n",
       "    }\n",
       "</style>\n",
       "<table border=\"1\" class=\"dataframe\">\n",
       "  <thead>\n",
       "    <tr style=\"text-align: right;\">\n",
       "      <th></th>\n",
       "      <th>line_id</th>\n",
       "      <th>station_id</th>\n",
       "      <th>日期</th>\n",
       "      <th>星期</th>\n",
       "      <th>疫情</th>\n",
       "      <th>季节</th>\n",
       "      <th>总量</th>\n",
       "      <th>分时序列</th>\n",
       "    </tr>\n",
       "  </thead>\n",
       "  <tbody>\n",
       "    <tr>\n",
       "      <th>10863</th>\n",
       "      <td>01</td>\n",
       "      <td>0117</td>\n",
       "      <td>20200605</td>\n",
       "      <td>5</td>\n",
       "      <td>1.461</td>\n",
       "      <td>4</td>\n",
       "      <td>7228.0</td>\n",
       "      <td>[89,72,173,149,170,299,378,477,423,485,558,871...</td>\n",
       "    </tr>\n",
       "  </tbody>\n",
       "</table>\n",
       "</div>"
      ],
      "text/plain": [
       "      line_id station_id        日期 星期     疫情  季节      总量  \\\n",
       "10863      01       0117  20200605  5  1.461   4  7228.0   \n",
       "\n",
       "                                                    分时序列  \n",
       "10863  [89,72,173,149,170,299,378,477,423,485,558,871...  "
      ]
     },
     "execution_count": 20,
     "metadata": {},
     "output_type": "execute_result"
    }
   ],
   "source": [
    "df[(df['station_id'] =='0117') & (df['日期']=='20200605')]"
   ]
  },
  {
   "cell_type": "code",
   "execution_count": 21,
   "metadata": {},
   "outputs": [
    {
     "data": {
      "text/html": [
       "<div>\n",
       "<style scoped>\n",
       "    .dataframe tbody tr th:only-of-type {\n",
       "        vertical-align: middle;\n",
       "    }\n",
       "\n",
       "    .dataframe tbody tr th {\n",
       "        vertical-align: top;\n",
       "    }\n",
       "\n",
       "    .dataframe thead th {\n",
       "        text-align: right;\n",
       "    }\n",
       "</style>\n",
       "<table border=\"1\" class=\"dataframe\">\n",
       "  <thead>\n",
       "    <tr style=\"text-align: right;\">\n",
       "      <th></th>\n",
       "      <th>line_id</th>\n",
       "      <th>station_id</th>\n",
       "      <th>日期</th>\n",
       "      <th>星期</th>\n",
       "      <th>疫情</th>\n",
       "      <th>季节</th>\n",
       "      <th>总量</th>\n",
       "      <th>分时序列</th>\n",
       "    </tr>\n",
       "  </thead>\n",
       "  <tbody>\n",
       "    <tr>\n",
       "      <th>34817</th>\n",
       "      <td>01</td>\n",
       "      <td>0117</td>\n",
       "      <td>20200910</td>\n",
       "      <td>4</td>\n",
       "      <td>0.0</td>\n",
       "      <td>4</td>\n",
       "      <td>13159.0</td>\n",
       "      <td>[17,334,268,270,411,651,880,1097,1063,878,1179...</td>\n",
       "    </tr>\n",
       "  </tbody>\n",
       "</table>\n",
       "</div>"
      ],
      "text/plain": [
       "      line_id station_id        日期 星期   疫情  季节       总量  \\\n",
       "34817      01       0117  20200910  4  0.0   4  13159.0   \n",
       "\n",
       "                                                    分时序列  \n",
       "34817  [17,334,268,270,411,651,880,1097,1063,878,1179...  "
      ]
     },
     "execution_count": 21,
     "metadata": {},
     "output_type": "execute_result"
    }
   ],
   "source": [
    "df[(df['station_id'] =='0117') & (df['日期']=='20200910')]"
   ]
  },
  {
   "cell_type": "code",
   "execution_count": 23,
   "metadata": {},
   "outputs": [
    {
     "data": {
      "text/plain": [
       "36147"
      ]
     },
     "execution_count": 23,
     "metadata": {},
     "output_type": "execute_result"
    }
   ],
   "source": [
    "len(df)"
   ]
  },
  {
   "cell_type": "code",
   "execution_count": 24,
   "metadata": {},
   "outputs": [],
   "source": [
    "df_train = df[(df['日期'] <='20200515')]\n",
    "df_eval = df[df['日期'] >'20200515']"
   ]
  },
  {
   "cell_type": "code",
   "execution_count": 27,
   "metadata": {},
   "outputs": [
    {
     "ename": "ValueError",
     "evalue": "source code string cannot contain null bytes",
     "output_type": "error",
     "traceback": [
      "\u001b[0;31m---------------------------------------------------------------------------\u001b[0m",
      "\u001b[0;31mValueError\u001b[0m                                Traceback (most recent call last)",
      "\u001b[0;32m<ipython-input-27-44750e1f6932>\u001b[0m in \u001b[0;36m<module>\u001b[0;34m\u001b[0m\n\u001b[1;32m      1\u001b[0m \u001b[0;32mimport\u001b[0m \u001b[0mnumpy\u001b[0m \u001b[0;32mas\u001b[0m \u001b[0mnp\u001b[0m\u001b[0;34m\u001b[0m\u001b[0m\n\u001b[0;32m----> 2\u001b[0;31m \u001b[0marr_train\u001b[0m \u001b[0;34m=\u001b[0m \u001b[0mnp\u001b[0m\u001b[0;34m.\u001b[0m\u001b[0mmean\u001b[0m\u001b[0;34m(\u001b[0m\u001b[0mnp\u001b[0m\u001b[0;34m.\u001b[0m\u001b[0marray\u001b[0m\u001b[0;34m(\u001b[0m\u001b[0meval\u001b[0m\u001b[0;34m(\u001b[0m\u001b[0mdf_train\u001b[0m\u001b[0;34m[\u001b[0m\u001b[0;34m'分时序列'\u001b[0m\u001b[0;34m]\u001b[0m\u001b[0;34m.\u001b[0m\u001b[0mvalues\u001b[0m\u001b[0;34m)\u001b[0m\u001b[0;34m)\u001b[0m\u001b[0;34m,\u001b[0m\u001b[0maxis\u001b[0m \u001b[0;34m=\u001b[0m \u001b[0;36m0\u001b[0m\u001b[0;34m)\u001b[0m\u001b[0;34m\u001b[0m\u001b[0m\n\u001b[0m\u001b[1;32m      3\u001b[0m \u001b[0marr_eval\u001b[0m \u001b[0;34m=\u001b[0m \u001b[0mnp\u001b[0m\u001b[0;34m.\u001b[0m\u001b[0mmean\u001b[0m\u001b[0;34m(\u001b[0m\u001b[0mnp\u001b[0m\u001b[0;34m.\u001b[0m\u001b[0marray\u001b[0m\u001b[0;34m(\u001b[0m\u001b[0meval\u001b[0m\u001b[0;34m(\u001b[0m\u001b[0mdf_eval\u001b[0m\u001b[0;34m[\u001b[0m\u001b[0;34m'分时序列'\u001b[0m\u001b[0;34m]\u001b[0m\u001b[0;34m.\u001b[0m\u001b[0mvalues\u001b[0m\u001b[0;34m)\u001b[0m\u001b[0;34m)\u001b[0m\u001b[0;34m,\u001b[0m\u001b[0maxis\u001b[0m \u001b[0;34m=\u001b[0m \u001b[0;36m0\u001b[0m\u001b[0;34m)\u001b[0m\u001b[0;34m\u001b[0m\u001b[0m\n",
      "\u001b[0;31mValueError\u001b[0m: source code string cannot contain null bytes"
     ]
    }
   ],
   "source": [
    "import numpy as np\n",
    "arr_train = np.mean(np.array(eval(df_train['分时序列'].values)),axis = 0)\n",
    "arr_eval = np.mean(np.array(eval(df_eval['分时序列'].values)),axis = 0)"
   ]
  },
  {
   "cell_type": "code",
   "execution_count": 42,
   "metadata": {},
   "outputs": [
    {
     "ename": "TypeError",
     "evalue": "'numpy.ndarray' object is not callable",
     "output_type": "error",
     "traceback": [
      "\u001b[0;31m---------------------------------------------------------------------------\u001b[0m",
      "\u001b[0;31mTypeError\u001b[0m                                 Traceback (most recent call last)",
      "\u001b[0;32m<ipython-input-42-c3cc6f2af294>\u001b[0m in \u001b[0;36m<module>\u001b[0;34m\u001b[0m\n\u001b[1;32m      1\u001b[0m \u001b[0;31m# df_train['分时序列'].values\u001b[0m\u001b[0;34m\u001b[0m\u001b[0;34m\u001b[0m\u001b[0m\n\u001b[0;32m----> 2\u001b[0;31m \u001b[0;34m[\u001b[0m\u001b[0meval\u001b[0m\u001b[0;34m(\u001b[0m\u001b[0mi\u001b[0m\u001b[0;34m)\u001b[0m \u001b[0;32mfor\u001b[0m \u001b[0mi\u001b[0m \u001b[0;32min\u001b[0m \u001b[0mdf_train\u001b[0m\u001b[0;34m[\u001b[0m\u001b[0;34m'分时序列'\u001b[0m\u001b[0;34m]\u001b[0m\u001b[0;34m.\u001b[0m\u001b[0mvalues\u001b[0m\u001b[0;34m]\u001b[0m\u001b[0;34m\u001b[0m\u001b[0m\n\u001b[0m",
      "\u001b[0;32m<ipython-input-42-c3cc6f2af294>\u001b[0m in \u001b[0;36m<listcomp>\u001b[0;34m(.0)\u001b[0m\n\u001b[1;32m      1\u001b[0m \u001b[0;31m# df_train['分时序列'].values\u001b[0m\u001b[0;34m\u001b[0m\u001b[0;34m\u001b[0m\u001b[0m\n\u001b[0;32m----> 2\u001b[0;31m \u001b[0;34m[\u001b[0m\u001b[0meval\u001b[0m\u001b[0;34m(\u001b[0m\u001b[0mi\u001b[0m\u001b[0;34m)\u001b[0m \u001b[0;32mfor\u001b[0m \u001b[0mi\u001b[0m \u001b[0;32min\u001b[0m \u001b[0mdf_train\u001b[0m\u001b[0;34m[\u001b[0m\u001b[0;34m'分时序列'\u001b[0m\u001b[0;34m]\u001b[0m\u001b[0;34m.\u001b[0m\u001b[0mvalues\u001b[0m\u001b[0;34m]\u001b[0m\u001b[0;34m\u001b[0m\u001b[0m\n\u001b[0m",
      "\u001b[0;31mTypeError\u001b[0m: 'numpy.ndarray' object is not callable"
     ]
    }
   ],
   "source": [
    "# df_train['分时序列'].values\n",
    "[eval(i) for i in df_train['分时序列'].values]"
   ]
  },
  {
   "cell_type": "code",
   "execution_count": 48,
   "metadata": {},
   "outputs": [
    {
     "ename": "TypeError",
     "evalue": "'numpy.ndarray' object is not callable",
     "output_type": "error",
     "traceback": [
      "\u001b[0;31m---------------------------------------------------------------------------\u001b[0m",
      "\u001b[0;31mTypeError\u001b[0m                                 Traceback (most recent call last)",
      "\u001b[0;32m<ipython-input-48-33c987a4eed1>\u001b[0m in \u001b[0;36m<module>\u001b[0;34m\u001b[0m\n\u001b[1;32m      1\u001b[0m \u001b[0mdf_eval\u001b[0m\u001b[0;34m[\u001b[0m\u001b[0;34m'分时序列'\u001b[0m\u001b[0;34m]\u001b[0m\u001b[0;34m.\u001b[0m\u001b[0mvalues\u001b[0m\u001b[0;34m\u001b[0m\u001b[0m\n\u001b[0;32m----> 2\u001b[0;31m \u001b[0marr_eval\u001b[0m \u001b[0;34m=\u001b[0m \u001b[0mnp\u001b[0m\u001b[0;34m.\u001b[0m\u001b[0marray\u001b[0m\u001b[0;34m(\u001b[0m\u001b[0;34m[\u001b[0m\u001b[0meval\u001b[0m\u001b[0;34m(\u001b[0m\u001b[0mi\u001b[0m\u001b[0;34m)\u001b[0m \u001b[0;32mfor\u001b[0m \u001b[0mi\u001b[0m \u001b[0;32min\u001b[0m \u001b[0mdf_eval\u001b[0m\u001b[0;34m[\u001b[0m\u001b[0;34m'分时序列'\u001b[0m\u001b[0;34m]\u001b[0m\u001b[0;34m.\u001b[0m\u001b[0mvalues\u001b[0m\u001b[0;34m]\u001b[0m\u001b[0;34m)\u001b[0m\u001b[0;34m\u001b[0m\u001b[0m\n\u001b[0m",
      "\u001b[0;32m<ipython-input-48-33c987a4eed1>\u001b[0m in \u001b[0;36m<listcomp>\u001b[0;34m(.0)\u001b[0m\n\u001b[1;32m      1\u001b[0m \u001b[0mdf_eval\u001b[0m\u001b[0;34m[\u001b[0m\u001b[0;34m'分时序列'\u001b[0m\u001b[0;34m]\u001b[0m\u001b[0;34m.\u001b[0m\u001b[0mvalues\u001b[0m\u001b[0;34m\u001b[0m\u001b[0m\n\u001b[0;32m----> 2\u001b[0;31m \u001b[0marr_eval\u001b[0m \u001b[0;34m=\u001b[0m \u001b[0mnp\u001b[0m\u001b[0;34m.\u001b[0m\u001b[0marray\u001b[0m\u001b[0;34m(\u001b[0m\u001b[0;34m[\u001b[0m\u001b[0meval\u001b[0m\u001b[0;34m(\u001b[0m\u001b[0mi\u001b[0m\u001b[0;34m)\u001b[0m \u001b[0;32mfor\u001b[0m \u001b[0mi\u001b[0m \u001b[0;32min\u001b[0m \u001b[0mdf_eval\u001b[0m\u001b[0;34m[\u001b[0m\u001b[0;34m'分时序列'\u001b[0m\u001b[0;34m]\u001b[0m\u001b[0;34m.\u001b[0m\u001b[0mvalues\u001b[0m\u001b[0;34m]\u001b[0m\u001b[0;34m)\u001b[0m\u001b[0;34m\u001b[0m\u001b[0m\n\u001b[0m",
      "\u001b[0;31mTypeError\u001b[0m: 'numpy.ndarray' object is not callable"
     ]
    }
   ],
   "source": [
    "df_eval['分时序列'].values\n",
    "arr_eval = np.array([eval(i) for i in df_eval['分时序列'].values])"
   ]
  },
  {
   "cell_type": "code",
   "execution_count": 38,
   "metadata": {},
   "outputs": [
    {
     "data": {
      "text/plain": [
       "(30839, 19)"
      ]
     },
     "execution_count": 38,
     "metadata": {},
     "output_type": "execute_result"
    }
   ],
   "source": [
    "arr_eval.shape"
   ]
  },
  {
   "cell_type": "code",
   "execution_count": 49,
   "metadata": {},
   "outputs": [
    {
     "ename": "TypeError",
     "evalue": "'numpy.ndarray' object is not callable",
     "output_type": "error",
     "traceback": [
      "\u001b[0;31m---------------------------------------------------------------------------\u001b[0m",
      "\u001b[0;31mTypeError\u001b[0m                                 Traceback (most recent call last)",
      "\u001b[0;32m<ipython-input-49-6f7139a1bf8d>\u001b[0m in \u001b[0;36m<module>\u001b[0;34m\u001b[0m\n\u001b[0;32m----> 1\u001b[0;31m \u001b[0meval\u001b[0m\u001b[0;34m(\u001b[0m\u001b[0mdf\u001b[0m\u001b[0;34m[\u001b[0m\u001b[0;34m'分时序列'\u001b[0m\u001b[0;34m]\u001b[0m\u001b[0;34m.\u001b[0m\u001b[0mvalues\u001b[0m\u001b[0;34m[\u001b[0m\u001b[0;36m0\u001b[0m\u001b[0;34m]\u001b[0m\u001b[0;34m)\u001b[0m\u001b[0;34m\u001b[0m\u001b[0m\n\u001b[0m",
      "\u001b[0;31mTypeError\u001b[0m: 'numpy.ndarray' object is not callable"
     ]
    }
   ],
   "source": [
    "eval(df['分时序列'].values[0])"
   ]
  },
  {
   "cell_type": "code",
   "execution_count": 56,
   "metadata": {},
   "outputs": [
    {
     "ename": "TypeError",
     "evalue": "'numpy.ndarray' object is not callable",
     "output_type": "error",
     "traceback": [
      "\u001b[0;31m---------------------------------------------------------------------------\u001b[0m",
      "\u001b[0;31mTypeError\u001b[0m                                 Traceback (most recent call last)",
      "\u001b[0;32m<ipython-input-56-905e303d73f7>\u001b[0m in \u001b[0;36m<module>\u001b[0;34m\u001b[0m\n\u001b[0;32m----> 1\u001b[0;31m \u001b[0;34m[\u001b[0m\u001b[0meval\u001b[0m\u001b[0;34m(\u001b[0m\u001b[0mi\u001b[0m\u001b[0;34m)\u001b[0m \u001b[0;32mfor\u001b[0m \u001b[0mi\u001b[0m \u001b[0;32min\u001b[0m \u001b[0mdf\u001b[0m\u001b[0;34m.\u001b[0m\u001b[0mloc\u001b[0m\u001b[0;34m[\u001b[0m\u001b[0;36m0\u001b[0m\u001b[0;34m,\u001b[0m\u001b[0;34m'分时序列'\u001b[0m\u001b[0;34m]\u001b[0m\u001b[0;34m]\u001b[0m\u001b[0;34m\u001b[0m\u001b[0m\n\u001b[0m",
      "\u001b[0;32m<ipython-input-56-905e303d73f7>\u001b[0m in \u001b[0;36m<listcomp>\u001b[0;34m(.0)\u001b[0m\n\u001b[0;32m----> 1\u001b[0;31m \u001b[0;34m[\u001b[0m\u001b[0meval\u001b[0m\u001b[0;34m(\u001b[0m\u001b[0mi\u001b[0m\u001b[0;34m)\u001b[0m \u001b[0;32mfor\u001b[0m \u001b[0mi\u001b[0m \u001b[0;32min\u001b[0m \u001b[0mdf\u001b[0m\u001b[0;34m.\u001b[0m\u001b[0mloc\u001b[0m\u001b[0;34m[\u001b[0m\u001b[0;36m0\u001b[0m\u001b[0;34m,\u001b[0m\u001b[0;34m'分时序列'\u001b[0m\u001b[0;34m]\u001b[0m\u001b[0;34m]\u001b[0m\u001b[0;34m\u001b[0m\u001b[0m\n\u001b[0m",
      "\u001b[0;31mTypeError\u001b[0m: 'numpy.ndarray' object is not callable"
     ]
    }
   ],
   "source": [
    "[eval(i) for i in df.loc[0,'分时序列']]"
   ]
  },
  {
   "cell_type": "code",
   "execution_count": 55,
   "metadata": {},
   "outputs": [
    {
     "data": {
      "text/plain": [
       "array(['[36,148,374,367,152,77,99,118,142,142,233,298,463,323,155,94,53,16,2]',\n",
       "       '[66,514,1188,916,382,172,140,149,133,145,149,171,226,234,153,91,65,27,5]',\n",
       "       '[95,718,1772,1210,266,130,124,148,66,81,68,120,164,192,111,61,39,16,2]',\n",
       "       ...,\n",
       "       '[44,333,1150,1023,402,236,213,217,262,243,173,253,722,803,360,286,215,72,2]',\n",
       "       '[58,349,814,1058,833,681,784,699,764,693,801,1115,1640,1802,1071,736,567,336,56]',\n",
       "       '[102,379,529,265,99,62,66,51,50,57,56,80,117,72,28,22,18,3,0]'],\n",
       "      dtype=object)"
      ]
     },
     "execution_count": 55,
     "metadata": {},
     "output_type": "execute_result"
    }
   ],
   "source": [
    "df_eval['分时序列'].values"
   ]
  },
  {
   "cell_type": "code",
   "execution_count": 4,
   "metadata": {},
   "outputs": [],
   "source": [
    "import numpy as np\n",
    "df_train = df[(df['日期'] <='20200515')]\n",
    "df_eval = df[df['日期'] >'20200515']\n",
    "\n",
    "\n",
    "arr_eval = np.array([eval(i) for i in df_eval['分时序列'].values])\n",
    "arr_train = np.array([eval(i) for i in df_train['分时序列'].values])\n",
    "\n",
    "res = np.mean(arr_eval,axis=0)/np.mean(arr_train,axis=0)"
   ]
  },
  {
   "cell_type": "code",
   "execution_count": 1,
   "metadata": {},
   "outputs": [],
   "source": [
    "import pickle as pl\n",
    "df = pl.load(open('train_data_2020','rb'))"
   ]
  },
  {
   "cell_type": "code",
   "execution_count": 5,
   "metadata": {},
   "outputs": [
    {
     "data": {
      "text/plain": [
       "array([1.68449195, 1.60802757, 1.43302717, 1.29312534, 1.24198478,\n",
       "       1.40494979, 1.47033397, 1.44083404, 1.45803457, 1.45670728,\n",
       "       1.45789909, 1.40159216, 1.44051273, 1.36402689, 1.28897186,\n",
       "       1.39838877, 1.5200523 , 1.59568418, 1.58639628])"
      ]
     },
     "execution_count": 5,
     "metadata": {},
     "output_type": "execute_result"
    }
   ],
   "source": [
    "res"
   ]
  },
  {
   "cell_type": "code",
   "execution_count": 7,
   "metadata": {},
   "outputs": [],
   "source": [
    "pl.dump(res,open('increse_index','wb'))"
   ]
  },
  {
   "cell_type": "code",
   "execution_count": 8,
   "metadata": {},
   "outputs": [
    {
     "data": {
      "text/plain": [
       "[1.684491949349088,\n",
       " 1.6080275679329796,\n",
       " 1.4330271712699114,\n",
       " 1.2931253427247893,\n",
       " 1.2419847775265045,\n",
       " 1.4049497892432226,\n",
       " 1.4703339731372622,\n",
       " 1.4408340437816065,\n",
       " 1.458034568699127,\n",
       " 1.4567072825462712,\n",
       " 1.4578990896373984,\n",
       " 1.401592163029476,\n",
       " 1.4405127329750218,\n",
       " 1.364026889998179,\n",
       " 1.2889718576648381,\n",
       " 1.3983887748621038,\n",
       " 1.5200523027387098,\n",
       " 1.595684181090308,\n",
       " 1.5863962762892057]"
      ]
     },
     "execution_count": 8,
     "metadata": {},
     "output_type": "execute_result"
    }
   ],
   "source": [
    "list(res)"
   ]
  },
  {
   "cell_type": "code",
   "execution_count": 9,
   "metadata": {},
   "outputs": [],
   "source": [
    "a = [1.684491949349088,\n",
    " 1.6080275679329796,\n",
    " 1.4330271712699114,\n",
    " 1.2931253427247893,\n",
    " 1.2419847775265045,\n",
    " 1.4049497892432226,\n",
    " 1.4703339731372622,\n",
    " 1.4408340437816065,\n",
    " 1.458034568699127,\n",
    " 1.4567072825462712,\n",
    " 1.4578990896373984,\n",
    " 1.401592163029476,\n",
    " 1.4405127329750218,\n",
    " 1.364026889998179,\n",
    " 1.2889718576648381,\n",
    " 1.3983887748621038,\n",
    " 1.5200523027387098,\n",
    " 1.595684181090308,\n",
    " 1.5863962762892057]"
   ]
  },
  {
   "cell_type": "code",
   "execution_count": 10,
   "metadata": {},
   "outputs": [
    {
     "data": {
      "text/plain": [
       "[1.684491949349088,\n",
       " 1.6080275679329796,\n",
       " 1.4330271712699114,\n",
       " 1.2931253427247893,\n",
       " 1.2419847775265045,\n",
       " 1.4049497892432226,\n",
       " 1.4703339731372622,\n",
       " 1.4408340437816065,\n",
       " 1.458034568699127,\n",
       " 1.4567072825462712,\n",
       " 1.4578990896373984,\n",
       " 1.401592163029476,\n",
       " 1.4405127329750218,\n",
       " 1.364026889998179,\n",
       " 1.2889718576648381,\n",
       " 1.3983887748621038,\n",
       " 1.5200523027387098,\n",
       " 1.595684181090308,\n",
       " 1.5863962762892057]"
      ]
     },
     "execution_count": 10,
     "metadata": {},
     "output_type": "execute_result"
    }
   ],
   "source": [
    "a"
   ]
  },
  {
   "cell_type": "code",
   "execution_count": 34,
   "metadata": {},
   "outputs": [
    {
     "data": {
      "text/plain": [
       "array([[  36,  184,  652,  577,  280,  198,  216,  307,  328,  333,  413,\n",
       "         564, 1254, 1583, 1337, 1092, 1137,  290,   11]])"
      ]
     },
     "execution_count": 34,
     "metadata": {},
     "output_type": "execute_result"
    }
   ],
   "source": [
    "t1 = np.array([eval(i) for i in df[(df['station_id'] == '0825') & (df['日期']=='20200910')]['分时序列'].values])\n",
    "t1"
   ]
  },
  {
   "cell_type": "code",
   "execution_count": 28,
   "metadata": {},
   "outputs": [
    {
     "data": {
      "text/plain": [
       "array([  17,  246,  621,  547,  367,  798, 1361, 1645, 1692, 2066, 2849,\n",
       "       4121, 3418, 2133, 1666, 1199, 1126,  282,   14])"
      ]
     },
     "execution_count": 28,
     "metadata": {},
     "output_type": "execute_result"
    }
   ],
   "source": [
    "t2 = np.mean(np.array([eval(i) for i in df[(df['station_id'] == '0825') & (df['日期'].isin(['20200908', '20200907', '20200909']))]['分时序列'].values]),axis=0).astype(int)\n",
    "t2"
   ]
  },
  {
   "cell_type": "code",
   "execution_count": 35,
   "metadata": {},
   "outputs": [
    {
     "data": {
      "text/plain": [
       "array([[0.47222222, 1.33695652, 0.95245399, 0.94800693, 1.31071429,\n",
       "        4.03030303, 6.30092593, 5.35830619, 5.15853659, 6.2042042 ,\n",
       "        6.89830508, 7.30673759, 2.72567783, 1.34744157, 1.2460733 ,\n",
       "        1.09798535, 0.99032542, 0.97241379, 1.27272727]])"
      ]
     },
     "execution_count": 35,
     "metadata": {},
     "output_type": "execute_result"
    }
   ],
   "source": [
    "np.divide(t2,t1)"
   ]
  },
  {
   "cell_type": "code",
   "execution_count": 43,
   "metadata": {},
   "outputs": [],
   "source": [
    "#coding=utf-8\n",
    "import numpy as np\n",
    "import pandas as pd\n",
    "\n",
    "\n",
    "\n",
    "def get_index(df,infer_start_date):\n",
    "    df_train = df[(df['日期'] < infer_start_date)]\n",
    "    df_eval = df[df['日期'] >= infer_start_date]\n",
    "\n",
    "    arr_eval = np.array([eval(i) for i in df_eval['分时序列'].values])\n",
    "    arr_train = np.array([eval(i) for i in df_train['分时序列'].values])\n",
    "\n",
    "    res = np.mean(arr_eval, axis=0) / np.mean(arr_train, axis=0)\n",
    "    res[0],res[18] = 1,1 #开始时段跟结束时段不做缩放\n",
    "    return res\n",
    "\n"
   ]
  },
  {
   "cell_type": "code",
   "execution_count": 44,
   "metadata": {},
   "outputs": [
    {
     "data": {
      "text/plain": [
       "array([1.        , 1.4170904 , 1.28783376, 1.2134595 , 1.2381831 ,\n",
       "       1.42250589, 1.48850294, 1.47593245, 1.50187471, 1.51367797,\n",
       "       1.51510618, 1.43595299, 1.35163147, 1.2759081 , 1.23193746,\n",
       "       1.26909862, 1.34090447, 1.39382122, 1.        ])"
      ]
     },
     "execution_count": 44,
     "metadata": {},
     "output_type": "execute_result"
    }
   ],
   "source": [
    "get_index(df,'20200815')"
   ]
  },
  {
   "cell_type": "code",
   "execution_count": 47,
   "metadata": {},
   "outputs": [
    {
     "data": {
      "text/plain": [
       "array([[0.47222222, 0.94345182, 0.73957836, 0.78124316, 1.05857872,\n",
       "        2.83324171, 4.23306245, 3.6304549 , 3.43473163, 4.09876098,\n",
       "        4.55301759, 5.08842395, 2.01658357, 1.05606475, 1.01147448,\n",
       "        0.86516945, 0.73855031, 0.69766035, 1.27272727]])"
      ]
     },
     "execution_count": 47,
     "metadata": {},
     "output_type": "execute_result"
    }
   ],
   "source": [
    "np.divide(t2,t1)/get_index(df,'20200815')"
   ]
  },
  {
   "cell_type": "code",
   "execution_count": null,
   "metadata": {},
   "outputs": [],
   "source": [
    "np.di"
   ]
  }
 ],
 "metadata": {
  "kernelspec": {
   "display_name": "Python 3",
   "language": "python",
   "name": "python3"
  },
  "language_info": {
   "codemirror_mode": {
    "name": "ipython",
    "version": 3
   },
   "file_extension": ".py",
   "mimetype": "text/x-python",
   "name": "python",
   "nbconvert_exporter": "python",
   "pygments_lexer": "ipython3",
   "version": "3.5.6"
  }
 },
 "nbformat": 4,
 "nbformat_minor": 2
}
