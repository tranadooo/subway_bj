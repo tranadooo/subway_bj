{
 "cells": [
  {
   "cell_type": "markdown",
   "metadata": {},
   "source": [
    "# 生成2020训练数据"
   ]
  },
  {
   "cell_type": "code",
   "execution_count": null,
   "metadata": {},
   "outputs": [],
   "source": [
    "from pyhive import hive\n",
    "data_conn = hive.Connection(host='10.254.5.100',\n",
    "                           port=10000,\n",
    "                           username='ETL',\n",
    "                           database='default')\n",
    "cur = data_conn.cursor()\n",
    "\n",
    "\n",
    "import pandas as pd\n",
    "# open('../sql/train_2020.sql','r').read()\n",
    "data = pd.read_sql(open('../sql/train_2020.sql','r').read(),data_conn)\n",
    "\n",
    "import pickle as pl\n",
    "pl.dump(data,open('train_data_2020','wb'))"
   ]
  },
  {
   "cell_type": "code",
   "execution_count": null,
   "metadata": {},
   "outputs": [],
   "source": [
    "data"
   ]
  },
  {
   "cell_type": "markdown",
   "metadata": {},
   "source": [
    "# #划分站区"
   ]
  },
  {
   "cell_type": "code",
   "execution_count": 1,
   "metadata": {},
   "outputs": [],
   "source": [
    "from pyhive import hive\n",
    "import pandas as pd\n",
    "data_conn = hive.Connection(host='10.254.5.100',\n",
    "                           port=10000,\n",
    "                           username='ETL',\n",
    "                           database='default')\n",
    "full = pd.read_sql('select entry_station_id as station_id, stat_dt, entry_list from bmnc_infer.train_entry_od_data_re t where stat_dt between \"2018-01-01\" and  \"2018-12-31\" and (length(entry_station_id) == 4 and entry_station_id not in (\"83\",\"84\",\"85\",\"93\",\"04\"))',data_conn)"
   ]
  },
  {
   "cell_type": "code",
   "execution_count": 2,
   "metadata": {},
   "outputs": [],
   "source": [
    "sql_rela = \"\"\"\n",
    "    select \n",
    "    stat_station_id as station_id,\n",
    "    xfer_station_id as pId\n",
    "    from \n",
    "     bmnc_pcodevw.t99_stat_stn_xfer_rela_his t\n",
    "    where t.stat_std_cd = '10'\n",
    "    and t.start_tm <= '2018-12-14'\n",
    "    and t.end_tm >= '2018-12-14'\n",
    "    and (length(t.stat_station_id) == 4 and t.stat_station_id not in ('83','84','85','93','04'))\n",
    "    \"\"\"\n",
    "\n",
    "station_arr_sql = \"\"\"\n",
    "        select stat_station_id as station_id,stat_line_id as line_id from bmnc_pcode.t99_stat_station_cd\n",
    "        where stat_line_id not in ('82' '83' '84' '85' '93' '04') \n",
    "        and open_tm <= '2018-12-14' and close_tm > '2018-12-14'\n",
    "        order by station_id\n",
    "        \"\"\""
   ]
  },
  {
   "cell_type": "code",
   "execution_count": 3,
   "metadata": {},
   "outputs": [],
   "source": [
    "import numpy as np\n",
    "phy_log_rela = pd.read_sql(sql_rela,data_conn)\n",
    "\n",
    "\n",
    "ls = pd.read_sql(station_arr_sql,data_conn)\n",
    "\n",
    "\n",
    "station_arr  = np.array(ls['station_id'].values)"
   ]
  },
  {
   "cell_type": "code",
   "execution_count": 4,
   "metadata": {},
   "outputs": [
    {
     "data": {
      "text/html": [
       "<div>\n",
       "<style scoped>\n",
       "    .dataframe tbody tr th:only-of-type {\n",
       "        vertical-align: middle;\n",
       "    }\n",
       "\n",
       "    .dataframe tbody tr th {\n",
       "        vertical-align: top;\n",
       "    }\n",
       "\n",
       "    .dataframe thead th {\n",
       "        text-align: right;\n",
       "    }\n",
       "</style>\n",
       "<table border=\"1\" class=\"dataframe\">\n",
       "  <thead>\n",
       "    <tr style=\"text-align: right;\">\n",
       "      <th></th>\n",
       "      <th>station_id</th>\n",
       "      <th>stat_dt</th>\n",
       "      <th>entry_list</th>\n",
       "    </tr>\n",
       "  </thead>\n",
       "  <tbody>\n",
       "    <tr>\n",
       "      <th>0</th>\n",
       "      <td>1427</td>\n",
       "      <td>2018-01-07</td>\n",
       "      <td>[[0,1,0,0,0,0,0,0,0,0,0,0,0,0,0,0,0,0,0,1,0,0,...</td>\n",
       "    </tr>\n",
       "    <tr>\n",
       "      <th>1</th>\n",
       "      <td>1427</td>\n",
       "      <td>2018-01-18</td>\n",
       "      <td>[[0,0,0,0,0,0,1,0,0,0,0,0,0,0,0,0,1,0,0,1,0,0,...</td>\n",
       "    </tr>\n",
       "    <tr>\n",
       "      <th>2</th>\n",
       "      <td>1427</td>\n",
       "      <td>2018-01-19</td>\n",
       "      <td>[[0,0,0,0,0,0,0,0,0,0,0,0,0,0,0,0,0,3,0,1,0,0,...</td>\n",
       "    </tr>\n",
       "    <tr>\n",
       "      <th>3</th>\n",
       "      <td>1427</td>\n",
       "      <td>2018-01-21</td>\n",
       "      <td>[[0,0,0,0,0,0,0,0,0,0,0,0,0,0,0,0,0,0,0,1,0,0,...</td>\n",
       "    </tr>\n",
       "    <tr>\n",
       "      <th>4</th>\n",
       "      <td>1427</td>\n",
       "      <td>2018-01-27</td>\n",
       "      <td>[[0,0,0,0,0,0,0,0,0,0,0,0,0,0,0,0,0,0,1,0,0,0,...</td>\n",
       "    </tr>\n",
       "  </tbody>\n",
       "</table>\n",
       "</div>"
      ],
      "text/plain": [
       "  station_id     stat_dt                                         entry_list\n",
       "0       1427  2018-01-07  [[0,1,0,0,0,0,0,0,0,0,0,0,0,0,0,0,0,0,0,1,0,0,...\n",
       "1       1427  2018-01-18  [[0,0,0,0,0,0,1,0,0,0,0,0,0,0,0,0,1,0,0,1,0,0,...\n",
       "2       1427  2018-01-19  [[0,0,0,0,0,0,0,0,0,0,0,0,0,0,0,0,0,3,0,1,0,0,...\n",
       "3       1427  2018-01-21  [[0,0,0,0,0,0,0,0,0,0,0,0,0,0,0,0,0,0,0,1,0,0,...\n",
       "4       1427  2018-01-27  [[0,0,0,0,0,0,0,0,0,0,0,0,0,0,0,0,0,0,1,0,0,0,..."
      ]
     },
     "execution_count": 4,
     "metadata": {},
     "output_type": "execute_result"
    }
   ],
   "source": [
    "full.head()"
   ]
  },
  {
   "cell_type": "code",
   "execution_count": 5,
   "metadata": {},
   "outputs": [
    {
     "data": {
      "text/html": [
       "<div>\n",
       "<style scoped>\n",
       "    .dataframe tbody tr th:only-of-type {\n",
       "        vertical-align: middle;\n",
       "    }\n",
       "\n",
       "    .dataframe tbody tr th {\n",
       "        vertical-align: top;\n",
       "    }\n",
       "\n",
       "    .dataframe thead th {\n",
       "        text-align: right;\n",
       "    }\n",
       "</style>\n",
       "<table border=\"1\" class=\"dataframe\">\n",
       "  <thead>\n",
       "    <tr style=\"text-align: right;\">\n",
       "      <th></th>\n",
       "      <th>station_id</th>\n",
       "      <th>pid</th>\n",
       "    </tr>\n",
       "  </thead>\n",
       "  <tbody>\n",
       "    <tr>\n",
       "      <th>0</th>\n",
       "      <td>0110</td>\n",
       "      <td>H22</td>\n",
       "    </tr>\n",
       "    <tr>\n",
       "      <th>1</th>\n",
       "      <td>0111</td>\n",
       "      <td>H21</td>\n",
       "    </tr>\n",
       "    <tr>\n",
       "      <th>2</th>\n",
       "      <td>0114</td>\n",
       "      <td>H07</td>\n",
       "    </tr>\n",
       "    <tr>\n",
       "      <th>3</th>\n",
       "      <td>0115</td>\n",
       "      <td>H06</td>\n",
       "    </tr>\n",
       "    <tr>\n",
       "      <th>4</th>\n",
       "      <td>0119</td>\n",
       "      <td>H05</td>\n",
       "    </tr>\n",
       "  </tbody>\n",
       "</table>\n",
       "</div>"
      ],
      "text/plain": [
       "  station_id  pid\n",
       "0       0110  H22\n",
       "1       0111  H21\n",
       "2       0114  H07\n",
       "3       0115  H06\n",
       "4       0119  H05"
      ]
     },
     "execution_count": 5,
     "metadata": {},
     "output_type": "execute_result"
    }
   ],
   "source": [
    "phy_log_rela.head()"
   ]
  },
  {
   "cell_type": "code",
   "execution_count": 6,
   "metadata": {},
   "outputs": [],
   "source": [
    "import numpy as np\n",
    "full['line_id'] = full['station_id'].apply(lambda x: x[:2] if len(x) ==4 else x[:4])\n",
    "full['year'] = full['stat_dt'].apply(lambda x: x[:4])\n",
    "all = pd.merge(full,phy_log_rela,how='left',on = 'station_id')\n",
    "\n",
    "# full['entry_list_'] = full['entry_list'].apply(lambda x: np.sum(np.array(eval(x)),axix = 0))"
   ]
  },
  {
   "cell_type": "code",
   "execution_count": 7,
   "metadata": {},
   "outputs": [
    {
     "data": {
      "text/html": [
       "<div>\n",
       "<style scoped>\n",
       "    .dataframe tbody tr th:only-of-type {\n",
       "        vertical-align: middle;\n",
       "    }\n",
       "\n",
       "    .dataframe tbody tr th {\n",
       "        vertical-align: top;\n",
       "    }\n",
       "\n",
       "    .dataframe thead th {\n",
       "        text-align: right;\n",
       "    }\n",
       "</style>\n",
       "<table border=\"1\" class=\"dataframe\">\n",
       "  <thead>\n",
       "    <tr style=\"text-align: right;\">\n",
       "      <th></th>\n",
       "      <th>station_id</th>\n",
       "      <th>stat_dt</th>\n",
       "      <th>entry_list</th>\n",
       "      <th>line_id</th>\n",
       "      <th>year</th>\n",
       "      <th>pid</th>\n",
       "    </tr>\n",
       "  </thead>\n",
       "  <tbody>\n",
       "    <tr>\n",
       "      <th>0</th>\n",
       "      <td>1427</td>\n",
       "      <td>2018-01-07</td>\n",
       "      <td>[[0,1,0,0,0,0,0,0,0,0,0,0,0,0,0,0,0,0,0,1,0,0,...</td>\n",
       "      <td>14</td>\n",
       "      <td>2018</td>\n",
       "      <td>NaN</td>\n",
       "    </tr>\n",
       "    <tr>\n",
       "      <th>1</th>\n",
       "      <td>1427</td>\n",
       "      <td>2018-01-18</td>\n",
       "      <td>[[0,0,0,0,0,0,1,0,0,0,0,0,0,0,0,0,1,0,0,1,0,0,...</td>\n",
       "      <td>14</td>\n",
       "      <td>2018</td>\n",
       "      <td>NaN</td>\n",
       "    </tr>\n",
       "    <tr>\n",
       "      <th>2</th>\n",
       "      <td>1427</td>\n",
       "      <td>2018-01-19</td>\n",
       "      <td>[[0,0,0,0,0,0,0,0,0,0,0,0,0,0,0,0,0,3,0,1,0,0,...</td>\n",
       "      <td>14</td>\n",
       "      <td>2018</td>\n",
       "      <td>NaN</td>\n",
       "    </tr>\n",
       "    <tr>\n",
       "      <th>3</th>\n",
       "      <td>1427</td>\n",
       "      <td>2018-01-21</td>\n",
       "      <td>[[0,0,0,0,0,0,0,0,0,0,0,0,0,0,0,0,0,0,0,1,0,0,...</td>\n",
       "      <td>14</td>\n",
       "      <td>2018</td>\n",
       "      <td>NaN</td>\n",
       "    </tr>\n",
       "    <tr>\n",
       "      <th>4</th>\n",
       "      <td>1427</td>\n",
       "      <td>2018-01-27</td>\n",
       "      <td>[[0,0,0,0,0,0,0,0,0,0,0,0,0,0,0,0,0,0,1,0,0,0,...</td>\n",
       "      <td>14</td>\n",
       "      <td>2018</td>\n",
       "      <td>NaN</td>\n",
       "    </tr>\n",
       "  </tbody>\n",
       "</table>\n",
       "</div>"
      ],
      "text/plain": [
       "  station_id     stat_dt                                         entry_list  \\\n",
       "0       1427  2018-01-07  [[0,1,0,0,0,0,0,0,0,0,0,0,0,0,0,0,0,0,0,1,0,0,...   \n",
       "1       1427  2018-01-18  [[0,0,0,0,0,0,1,0,0,0,0,0,0,0,0,0,1,0,0,1,0,0,...   \n",
       "2       1427  2018-01-19  [[0,0,0,0,0,0,0,0,0,0,0,0,0,0,0,0,0,3,0,1,0,0,...   \n",
       "3       1427  2018-01-21  [[0,0,0,0,0,0,0,0,0,0,0,0,0,0,0,0,0,0,0,1,0,0,...   \n",
       "4       1427  2018-01-27  [[0,0,0,0,0,0,0,0,0,0,0,0,0,0,0,0,0,0,1,0,0,0,...   \n",
       "\n",
       "  line_id  year  pid  \n",
       "0      14  2018  NaN  \n",
       "1      14  2018  NaN  \n",
       "2      14  2018  NaN  \n",
       "3      14  2018  NaN  \n",
       "4      14  2018  NaN  "
      ]
     },
     "execution_count": 7,
     "metadata": {},
     "output_type": "execute_result"
    }
   ],
   "source": [
    "all.head()"
   ]
  },
  {
   "cell_type": "code",
   "execution_count": null,
   "metadata": {},
   "outputs": [],
   "source": []
  },
  {
   "cell_type": "code",
   "execution_count": null,
   "metadata": {},
   "outputs": [],
   "source": [
    "station = station_arr[0]\n",
    "one_all = all[all['station_id']==station]\n"
   ]
  },
  {
   "cell_type": "code",
   "execution_count": null,
   "metadata": {},
   "outputs": [],
   "source": [
    "one_all['entry_day'] = one_all['entry_list'].apply(lambda x: np.sum(np.array(eval(x)),axis=0))"
   ]
  },
  {
   "cell_type": "code",
   "execution_count": null,
   "metadata": {},
   "outputs": [],
   "source": [
    "line_id = one_all.iloc[0,0]\n",
    "line_id"
   ]
  },
  {
   "cell_type": "code",
   "execution_count": null,
   "metadata": {},
   "outputs": [],
   "source": [
    "# one_all.head()\n",
    "# one_all['avg'] = [i for i in np.mean(one_all['entry_day'].values,axis=0)]\n",
    "year_avg = np.mean(one_all['entry_day'].values,axis=0)\n",
    "res = pd.DataFrame(\n",
    "    {'station_id':[station],\n",
    "        'line_id':[line_id],\n",
    "         'year_avg':[year_avg]\n",
    "    }\n",
    "    )"
   ]
  },
  {
   "cell_type": "code",
   "execution_count": null,
   "metadata": {},
   "outputs": [],
   "source": [
    "res"
   ]
  },
  {
   "cell_type": "code",
   "execution_count": null,
   "metadata": {},
   "outputs": [],
   "source": [
    "ls.head()"
   ]
  },
  {
   "cell_type": "code",
   "execution_count": 10,
   "metadata": {},
   "outputs": [
    {
     "name": "stderr",
     "output_type": "stream",
     "text": [
      "/usr/local/python-3.5.6/lib/python3.5/site-packages/ipykernel_launcher.py:4: SettingWithCopyWarning: \n",
      "A value is trying to be set on a copy of a slice from a DataFrame.\n",
      "Try using .loc[row_indexer,col_indexer] = value instead\n",
      "\n",
      "See the caveats in the documentation: http://pandas.pydata.org/pandas-docs/stable/indexing.html#indexing-view-versus-copy\n",
      "  after removing the cwd from sys.path.\n"
     ]
    },
    {
     "ename": "ZeroDivisionError",
     "evalue": "division by zero",
     "output_type": "error",
     "traceback": [
      "\u001b[0;31m---------------------------------------------------------------------------\u001b[0m",
      "\u001b[0;31mZeroDivisionError\u001b[0m                         Traceback (most recent call last)",
      "\u001b[0;32m<ipython-input-10-b319c4453434>\u001b[0m in \u001b[0;36m<module>\u001b[0;34m\u001b[0m\n\u001b[1;32m      3\u001b[0m     \u001b[0mone_all\u001b[0m \u001b[0;34m=\u001b[0m \u001b[0mall\u001b[0m\u001b[0;34m[\u001b[0m\u001b[0mall\u001b[0m\u001b[0;34m[\u001b[0m\u001b[0;34m'station_id'\u001b[0m\u001b[0;34m]\u001b[0m\u001b[0;34m==\u001b[0m\u001b[0mstation\u001b[0m\u001b[0;34m]\u001b[0m\u001b[0;34m\u001b[0m\u001b[0m\n\u001b[1;32m      4\u001b[0m     \u001b[0mone_all\u001b[0m\u001b[0;34m[\u001b[0m\u001b[0;34m'entry_day'\u001b[0m\u001b[0;34m]\u001b[0m \u001b[0;34m=\u001b[0m \u001b[0mone_all\u001b[0m\u001b[0;34m[\u001b[0m\u001b[0;34m'entry_list'\u001b[0m\u001b[0;34m]\u001b[0m\u001b[0;34m.\u001b[0m\u001b[0mapply\u001b[0m\u001b[0;34m(\u001b[0m\u001b[0;32mlambda\u001b[0m \u001b[0mx\u001b[0m\u001b[0;34m:\u001b[0m \u001b[0mnp\u001b[0m\u001b[0;34m.\u001b[0m\u001b[0msum\u001b[0m\u001b[0;34m(\u001b[0m\u001b[0mnp\u001b[0m\u001b[0;34m.\u001b[0m\u001b[0marray\u001b[0m\u001b[0;34m(\u001b[0m\u001b[0meval\u001b[0m\u001b[0;34m(\u001b[0m\u001b[0mx\u001b[0m\u001b[0;34m)\u001b[0m\u001b[0;34m)\u001b[0m\u001b[0;34m,\u001b[0m\u001b[0maxis\u001b[0m\u001b[0;34m=\u001b[0m\u001b[0;36m0\u001b[0m\u001b[0;34m)\u001b[0m\u001b[0;34m)\u001b[0m\u001b[0;34m\u001b[0m\u001b[0m\n\u001b[0;32m----> 5\u001b[0;31m     \u001b[0mls\u001b[0m\u001b[0;34m.\u001b[0m\u001b[0mloc\u001b[0m\u001b[0;34m[\u001b[0m\u001b[0mi\u001b[0m\u001b[0;34m,\u001b[0m\u001b[0;34m'year_avg'\u001b[0m\u001b[0;34m]\u001b[0m \u001b[0;34m=\u001b[0m \u001b[0mstr\u001b[0m\u001b[0;34m(\u001b[0m\u001b[0mlist\u001b[0m\u001b[0;34m(\u001b[0m\u001b[0mnp\u001b[0m\u001b[0;34m.\u001b[0m\u001b[0mmean\u001b[0m\u001b[0;34m(\u001b[0m\u001b[0mone_all\u001b[0m\u001b[0;34m[\u001b[0m\u001b[0;34m'entry_day'\u001b[0m\u001b[0;34m]\u001b[0m\u001b[0;34m.\u001b[0m\u001b[0mvalues\u001b[0m\u001b[0;34m,\u001b[0m\u001b[0maxis\u001b[0m\u001b[0;34m=\u001b[0m\u001b[0;36m0\u001b[0m\u001b[0;34m)\u001b[0m\u001b[0;34m)\u001b[0m\u001b[0;34m)\u001b[0m\u001b[0;34m\u001b[0m\u001b[0m\n\u001b[0m",
      "\u001b[0;32m<__array_function__ internals>\u001b[0m in \u001b[0;36mmean\u001b[0;34m(*args, **kwargs)\u001b[0m\n",
      "\u001b[0;32m/usr/local/python-3.5.6/lib/python3.5/site-packages/numpy/core/fromnumeric.py\u001b[0m in \u001b[0;36mmean\u001b[0;34m(a, axis, dtype, out, keepdims)\u001b[0m\n\u001b[1;32m   3333\u001b[0m \u001b[0;34m\u001b[0m\u001b[0m\n\u001b[1;32m   3334\u001b[0m     return _methods._mean(a, axis=axis, dtype=dtype,\n\u001b[0;32m-> 3335\u001b[0;31m                           out=out, **kwargs)\n\u001b[0m\u001b[1;32m   3336\u001b[0m \u001b[0;34m\u001b[0m\u001b[0m\n\u001b[1;32m   3337\u001b[0m \u001b[0;34m\u001b[0m\u001b[0m\n",
      "\u001b[0;32m/usr/local/python-3.5.6/lib/python3.5/site-packages/numpy/core/_methods.py\u001b[0m in \u001b[0;36m_mean\u001b[0;34m(a, axis, dtype, out, keepdims)\u001b[0m\n\u001b[1;32m    161\u001b[0m             \u001b[0mret\u001b[0m \u001b[0;34m=\u001b[0m \u001b[0mret\u001b[0m\u001b[0;34m.\u001b[0m\u001b[0mdtype\u001b[0m\u001b[0;34m.\u001b[0m\u001b[0mtype\u001b[0m\u001b[0;34m(\u001b[0m\u001b[0mret\u001b[0m \u001b[0;34m/\u001b[0m \u001b[0mrcount\u001b[0m\u001b[0;34m)\u001b[0m\u001b[0;34m\u001b[0m\u001b[0m\n\u001b[1;32m    162\u001b[0m     \u001b[0;32melse\u001b[0m\u001b[0;34m:\u001b[0m\u001b[0;34m\u001b[0m\u001b[0m\n\u001b[0;32m--> 163\u001b[0;31m         \u001b[0mret\u001b[0m \u001b[0;34m=\u001b[0m \u001b[0mret\u001b[0m \u001b[0;34m/\u001b[0m \u001b[0mrcount\u001b[0m\u001b[0;34m\u001b[0m\u001b[0m\n\u001b[0m\u001b[1;32m    164\u001b[0m \u001b[0;34m\u001b[0m\u001b[0m\n\u001b[1;32m    165\u001b[0m     \u001b[0;32mreturn\u001b[0m \u001b[0mret\u001b[0m\u001b[0;34m\u001b[0m\u001b[0m\n",
      "\u001b[0;31mZeroDivisionError\u001b[0m: division by zero"
     ]
    }
   ],
   "source": [
    "for i,station in enumerate(station_arr):\n",
    "\n",
    "    one_all = all[all['station_id']==station]\n",
    "    one_all['entry_day'] = one_all['entry_list'].apply(lambda x: np.sum(np.array(eval(x)),axis=0))\n",
    "    ls.loc[i,'year_avg'] = str(list(np.mean(one_all['entry_day'].values,axis=0)))"
   ]
  },
  {
   "cell_type": "code",
   "execution_count": null,
   "metadata": {},
   "outputs": [],
   "source": [
    "res.head()"
   ]
  },
  {
   "cell_type": "code",
   "execution_count": null,
   "metadata": {},
   "outputs": [],
   "source": [
    "# from joblib import Parallel, delayed\n",
    "\n",
    "# Parallel(n_jobs=-1)(delayed(\n",
    "#         concatData\n",
    "#         )(station,i) \\\n",
    "#                 for i,station in enumerate(station_arr))"
   ]
  },
  {
   "cell_type": "code",
   "execution_count": 9,
   "metadata": {},
   "outputs": [
    {
     "data": {
      "text/html": [
       "<div>\n",
       "<style scoped>\n",
       "    .dataframe tbody tr th:only-of-type {\n",
       "        vertical-align: middle;\n",
       "    }\n",
       "\n",
       "    .dataframe tbody tr th {\n",
       "        vertical-align: top;\n",
       "    }\n",
       "\n",
       "    .dataframe thead th {\n",
       "        text-align: right;\n",
       "    }\n",
       "</style>\n",
       "<table border=\"1\" class=\"dataframe\">\n",
       "  <thead>\n",
       "    <tr style=\"text-align: right;\">\n",
       "      <th></th>\n",
       "      <th>station_id</th>\n",
       "      <th>line_id</th>\n",
       "      <th>year_avg</th>\n",
       "    </tr>\n",
       "  </thead>\n",
       "  <tbody>\n",
       "    <tr>\n",
       "      <th>0</th>\n",
       "      <td>0103</td>\n",
       "      <td>01</td>\n",
       "      <td>[244, 213, 470, 352, 551, 1120, 621, 467, 457,...</td>\n",
       "    </tr>\n",
       "    <tr>\n",
       "      <th>1</th>\n",
       "      <td>0104</td>\n",
       "      <td>01</td>\n",
       "      <td>[243, 182, 134, 203, 480, 854, 426, 349, 337, ...</td>\n",
       "    </tr>\n",
       "    <tr>\n",
       "      <th>2</th>\n",
       "      <td>0105</td>\n",
       "      <td>01</td>\n",
       "      <td>[363, 108, 179, 54, 207, 759, 330, 317, 316, 3...</td>\n",
       "    </tr>\n",
       "    <tr>\n",
       "      <th>3</th>\n",
       "      <td>0106</td>\n",
       "      <td>01</td>\n",
       "      <td>[386, 222, 69, 167, 78, 521, 374, 330, 345, 37...</td>\n",
       "    </tr>\n",
       "    <tr>\n",
       "      <th>4</th>\n",
       "      <td>0107</td>\n",
       "      <td>01</td>\n",
       "      <td>[513, 499, 234, 89, 174, 444, 372, 309, 441, 3...</td>\n",
       "    </tr>\n",
       "    <tr>\n",
       "      <th>5</th>\n",
       "      <td>0108</td>\n",
       "      <td>01</td>\n",
       "      <td>[1115, 787, 706, 460, 487, 230, 292, 257, 447,...</td>\n",
       "    </tr>\n",
       "    <tr>\n",
       "      <th>6</th>\n",
       "      <td>0109</td>\n",
       "      <td>01</td>\n",
       "      <td>[693, 463, 366, 337, 396, 337, 95, 60, 191, 18...</td>\n",
       "    </tr>\n",
       "    <tr>\n",
       "      <th>7</th>\n",
       "      <td>0110</td>\n",
       "      <td>01</td>\n",
       "      <td>[429, 310, 266, 209, 234, 206, 50, 0, 79, 78, ...</td>\n",
       "    </tr>\n",
       "    <tr>\n",
       "      <th>8</th>\n",
       "      <td>0111</td>\n",
       "      <td>01</td>\n",
       "      <td>[432, 313, 298, 281, 399, 427, 175, 83, 103, 7...</td>\n",
       "    </tr>\n",
       "    <tr>\n",
       "      <th>9</th>\n",
       "      <td>0112</td>\n",
       "      <td>01</td>\n",
       "      <td>[423, 264, 301, 320, 345, 358, 171, 85, 74, 15...</td>\n",
       "    </tr>\n",
       "    <tr>\n",
       "      <th>10</th>\n",
       "      <td>0113</td>\n",
       "      <td>01</td>\n",
       "      <td>[620, 367, 433, 486, 441, 459, 194, 110, 119, ...</td>\n",
       "    </tr>\n",
       "    <tr>\n",
       "      <th>11</th>\n",
       "      <td>0114</td>\n",
       "      <td>01</td>\n",
       "      <td>[518, 347, 329, 448, 531, 392, 270, 127, 119, ...</td>\n",
       "    </tr>\n",
       "    <tr>\n",
       "      <th>12</th>\n",
       "      <td>0115</td>\n",
       "      <td>01</td>\n",
       "      <td>[1233, 597, 643, 793, 939, 1060, 554, 322, 399...</td>\n",
       "    </tr>\n",
       "    <tr>\n",
       "      <th>13</th>\n",
       "      <td>0116</td>\n",
       "      <td>01</td>\n",
       "      <td>[225, 101, 121, 141, 198, 352, 143, 104, 253, ...</td>\n",
       "    </tr>\n",
       "    <tr>\n",
       "      <th>14</th>\n",
       "      <td>0117</td>\n",
       "      <td>01</td>\n",
       "      <td>[379, 187, 199, 220, 268, 576, 186, 165, 439, ...</td>\n",
       "    </tr>\n",
       "    <tr>\n",
       "      <th>15</th>\n",
       "      <td>0118</td>\n",
       "      <td>01</td>\n",
       "      <td>[768, 357, 408, 465, 560, 833, 363, 267, 374, ...</td>\n",
       "    </tr>\n",
       "    <tr>\n",
       "      <th>16</th>\n",
       "      <td>0119</td>\n",
       "      <td>01</td>\n",
       "      <td>[338, 165, 193, 243, 288, 393, 189, 127, 134, ...</td>\n",
       "    </tr>\n",
       "    <tr>\n",
       "      <th>17</th>\n",
       "      <td>0120</td>\n",
       "      <td>01</td>\n",
       "      <td>[377, 172, 198, 252, 291, 274, 173, 103, 120, ...</td>\n",
       "    </tr>\n",
       "    <tr>\n",
       "      <th>18</th>\n",
       "      <td>0121</td>\n",
       "      <td>01</td>\n",
       "      <td>[418, 196, 252, 308, 346, 341, 214, 129, 159, ...</td>\n",
       "    </tr>\n",
       "    <tr>\n",
       "      <th>19</th>\n",
       "      <td>0122</td>\n",
       "      <td>01</td>\n",
       "      <td>[619, 266, 382, 438, 497, 602, 324, 218, 331, ...</td>\n",
       "    </tr>\n",
       "    <tr>\n",
       "      <th>20</th>\n",
       "      <td>0123</td>\n",
       "      <td>01</td>\n",
       "      <td>[718, 326, 370, 492, 527, 648, 337, 233, 277, ...</td>\n",
       "    </tr>\n",
       "    <tr>\n",
       "      <th>21</th>\n",
       "      <td>0124</td>\n",
       "      <td>01</td>\n",
       "      <td>[431, 191, 226, 254, 288, 370, 169, 137, 181, ...</td>\n",
       "    </tr>\n",
       "    <tr>\n",
       "      <th>22</th>\n",
       "      <td>0125</td>\n",
       "      <td>01</td>\n",
       "      <td>[400, 177, 220, 247, 257, 363, 178, 144, 201, ...</td>\n",
       "    </tr>\n",
       "    <tr>\n",
       "      <th>23</th>\n",
       "      <td>0201</td>\n",
       "      <td>02</td>\n",
       "      <td>[292, 213, 228, 274, 238, 300, 154, 82, 18, 11...</td>\n",
       "    </tr>\n",
       "    <tr>\n",
       "      <th>24</th>\n",
       "      <td>0202</td>\n",
       "      <td>02</td>\n",
       "      <td>[148, 108, 138, 170, 161, 148, 89, 30, 33, 81,...</td>\n",
       "    </tr>\n",
       "    <tr>\n",
       "      <th>25</th>\n",
       "      <td>0203</td>\n",
       "      <td>02</td>\n",
       "      <td>[158, 160, 186, 228, 224, 232, 133, 80, 78, 78...</td>\n",
       "    </tr>\n",
       "    <tr>\n",
       "      <th>26</th>\n",
       "      <td>0204</td>\n",
       "      <td>02</td>\n",
       "      <td>[0, 0, 0, 0, 0, 0, 0, 0, 0, 0, 0, 0, 0, 0, 0, ...</td>\n",
       "    </tr>\n",
       "    <tr>\n",
       "      <th>27</th>\n",
       "      <td>0205</td>\n",
       "      <td>02</td>\n",
       "      <td>[204, 109, 140, 156, 150, 150, 79, 65, 75, 83,...</td>\n",
       "    </tr>\n",
       "    <tr>\n",
       "      <th>28</th>\n",
       "      <td>0206</td>\n",
       "      <td>02</td>\n",
       "      <td>[104, 60, 78, 85, 98, 85, 48, 35, 69, 59, 61, ...</td>\n",
       "    </tr>\n",
       "    <tr>\n",
       "      <th>29</th>\n",
       "      <td>0207</td>\n",
       "      <td>02</td>\n",
       "      <td>[89, 47, 57, 62, 69, 76, 40, 32, 58, 66, 61, 0...</td>\n",
       "    </tr>\n",
       "    <tr>\n",
       "      <th>...</th>\n",
       "      <td>...</td>\n",
       "      <td>...</td>\n",
       "      <td>...</td>\n",
       "    </tr>\n",
       "    <tr>\n",
       "      <th>382</th>\n",
       "      <td>9621</td>\n",
       "      <td>96</td>\n",
       "      <td>NaN</td>\n",
       "    </tr>\n",
       "    <tr>\n",
       "      <th>383</th>\n",
       "      <td>9623</td>\n",
       "      <td>96</td>\n",
       "      <td>NaN</td>\n",
       "    </tr>\n",
       "    <tr>\n",
       "      <th>384</th>\n",
       "      <td>9625</td>\n",
       "      <td>96</td>\n",
       "      <td>NaN</td>\n",
       "    </tr>\n",
       "    <tr>\n",
       "      <th>385</th>\n",
       "      <td>9627</td>\n",
       "      <td>96</td>\n",
       "      <td>NaN</td>\n",
       "    </tr>\n",
       "    <tr>\n",
       "      <th>386</th>\n",
       "      <td>9629</td>\n",
       "      <td>96</td>\n",
       "      <td>NaN</td>\n",
       "    </tr>\n",
       "    <tr>\n",
       "      <th>387</th>\n",
       "      <td>9631</td>\n",
       "      <td>96</td>\n",
       "      <td>NaN</td>\n",
       "    </tr>\n",
       "    <tr>\n",
       "      <th>388</th>\n",
       "      <td>9633</td>\n",
       "      <td>96</td>\n",
       "      <td>NaN</td>\n",
       "    </tr>\n",
       "    <tr>\n",
       "      <th>389</th>\n",
       "      <td>9635</td>\n",
       "      <td>96</td>\n",
       "      <td>NaN</td>\n",
       "    </tr>\n",
       "    <tr>\n",
       "      <th>390</th>\n",
       "      <td>9637</td>\n",
       "      <td>96</td>\n",
       "      <td>NaN</td>\n",
       "    </tr>\n",
       "    <tr>\n",
       "      <th>391</th>\n",
       "      <td>9639</td>\n",
       "      <td>96</td>\n",
       "      <td>NaN</td>\n",
       "    </tr>\n",
       "    <tr>\n",
       "      <th>392</th>\n",
       "      <td>9641</td>\n",
       "      <td>96</td>\n",
       "      <td>NaN</td>\n",
       "    </tr>\n",
       "    <tr>\n",
       "      <th>393</th>\n",
       "      <td>9643</td>\n",
       "      <td>96</td>\n",
       "      <td>NaN</td>\n",
       "    </tr>\n",
       "    <tr>\n",
       "      <th>394</th>\n",
       "      <td>9645</td>\n",
       "      <td>96</td>\n",
       "      <td>NaN</td>\n",
       "    </tr>\n",
       "    <tr>\n",
       "      <th>395</th>\n",
       "      <td>9701</td>\n",
       "      <td>97</td>\n",
       "      <td>NaN</td>\n",
       "    </tr>\n",
       "    <tr>\n",
       "      <th>396</th>\n",
       "      <td>9702</td>\n",
       "      <td>97</td>\n",
       "      <td>NaN</td>\n",
       "    </tr>\n",
       "    <tr>\n",
       "      <th>397</th>\n",
       "      <td>9703</td>\n",
       "      <td>97</td>\n",
       "      <td>NaN</td>\n",
       "    </tr>\n",
       "    <tr>\n",
       "      <th>398</th>\n",
       "      <td>9704</td>\n",
       "      <td>97</td>\n",
       "      <td>NaN</td>\n",
       "    </tr>\n",
       "    <tr>\n",
       "      <th>399</th>\n",
       "      <td>9705</td>\n",
       "      <td>97</td>\n",
       "      <td>NaN</td>\n",
       "    </tr>\n",
       "    <tr>\n",
       "      <th>400</th>\n",
       "      <td>9706</td>\n",
       "      <td>97</td>\n",
       "      <td>NaN</td>\n",
       "    </tr>\n",
       "    <tr>\n",
       "      <th>401</th>\n",
       "      <td>9707</td>\n",
       "      <td>97</td>\n",
       "      <td>NaN</td>\n",
       "    </tr>\n",
       "    <tr>\n",
       "      <th>402</th>\n",
       "      <td>9708</td>\n",
       "      <td>97</td>\n",
       "      <td>NaN</td>\n",
       "    </tr>\n",
       "    <tr>\n",
       "      <th>403</th>\n",
       "      <td>9709</td>\n",
       "      <td>97</td>\n",
       "      <td>NaN</td>\n",
       "    </tr>\n",
       "    <tr>\n",
       "      <th>404</th>\n",
       "      <td>9710</td>\n",
       "      <td>97</td>\n",
       "      <td>NaN</td>\n",
       "    </tr>\n",
       "    <tr>\n",
       "      <th>405</th>\n",
       "      <td>9711</td>\n",
       "      <td>97</td>\n",
       "      <td>NaN</td>\n",
       "    </tr>\n",
       "    <tr>\n",
       "      <th>406</th>\n",
       "      <td>9712</td>\n",
       "      <td>97</td>\n",
       "      <td>NaN</td>\n",
       "    </tr>\n",
       "    <tr>\n",
       "      <th>407</th>\n",
       "      <td>9713</td>\n",
       "      <td>97</td>\n",
       "      <td>NaN</td>\n",
       "    </tr>\n",
       "    <tr>\n",
       "      <th>408</th>\n",
       "      <td>9821</td>\n",
       "      <td>98</td>\n",
       "      <td>NaN</td>\n",
       "    </tr>\n",
       "    <tr>\n",
       "      <th>409</th>\n",
       "      <td>9823</td>\n",
       "      <td>98</td>\n",
       "      <td>NaN</td>\n",
       "    </tr>\n",
       "    <tr>\n",
       "      <th>410</th>\n",
       "      <td>9825</td>\n",
       "      <td>98</td>\n",
       "      <td>NaN</td>\n",
       "    </tr>\n",
       "    <tr>\n",
       "      <th>411</th>\n",
       "      <td>9827</td>\n",
       "      <td>98</td>\n",
       "      <td>NaN</td>\n",
       "    </tr>\n",
       "  </tbody>\n",
       "</table>\n",
       "<p>412 rows × 3 columns</p>\n",
       "</div>"
      ],
      "text/plain": [
       "    station_id line_id                                           year_avg\n",
       "0         0103      01  [244, 213, 470, 352, 551, 1120, 621, 467, 457,...\n",
       "1         0104      01  [243, 182, 134, 203, 480, 854, 426, 349, 337, ...\n",
       "2         0105      01  [363, 108, 179, 54, 207, 759, 330, 317, 316, 3...\n",
       "3         0106      01  [386, 222, 69, 167, 78, 521, 374, 330, 345, 37...\n",
       "4         0107      01  [513, 499, 234, 89, 174, 444, 372, 309, 441, 3...\n",
       "5         0108      01  [1115, 787, 706, 460, 487, 230, 292, 257, 447,...\n",
       "6         0109      01  [693, 463, 366, 337, 396, 337, 95, 60, 191, 18...\n",
       "7         0110      01  [429, 310, 266, 209, 234, 206, 50, 0, 79, 78, ...\n",
       "8         0111      01  [432, 313, 298, 281, 399, 427, 175, 83, 103, 7...\n",
       "9         0112      01  [423, 264, 301, 320, 345, 358, 171, 85, 74, 15...\n",
       "10        0113      01  [620, 367, 433, 486, 441, 459, 194, 110, 119, ...\n",
       "11        0114      01  [518, 347, 329, 448, 531, 392, 270, 127, 119, ...\n",
       "12        0115      01  [1233, 597, 643, 793, 939, 1060, 554, 322, 399...\n",
       "13        0116      01  [225, 101, 121, 141, 198, 352, 143, 104, 253, ...\n",
       "14        0117      01  [379, 187, 199, 220, 268, 576, 186, 165, 439, ...\n",
       "15        0118      01  [768, 357, 408, 465, 560, 833, 363, 267, 374, ...\n",
       "16        0119      01  [338, 165, 193, 243, 288, 393, 189, 127, 134, ...\n",
       "17        0120      01  [377, 172, 198, 252, 291, 274, 173, 103, 120, ...\n",
       "18        0121      01  [418, 196, 252, 308, 346, 341, 214, 129, 159, ...\n",
       "19        0122      01  [619, 266, 382, 438, 497, 602, 324, 218, 331, ...\n",
       "20        0123      01  [718, 326, 370, 492, 527, 648, 337, 233, 277, ...\n",
       "21        0124      01  [431, 191, 226, 254, 288, 370, 169, 137, 181, ...\n",
       "22        0125      01  [400, 177, 220, 247, 257, 363, 178, 144, 201, ...\n",
       "23        0201      02  [292, 213, 228, 274, 238, 300, 154, 82, 18, 11...\n",
       "24        0202      02  [148, 108, 138, 170, 161, 148, 89, 30, 33, 81,...\n",
       "25        0203      02  [158, 160, 186, 228, 224, 232, 133, 80, 78, 78...\n",
       "26        0204      02  [0, 0, 0, 0, 0, 0, 0, 0, 0, 0, 0, 0, 0, 0, 0, ...\n",
       "27        0205      02  [204, 109, 140, 156, 150, 150, 79, 65, 75, 83,...\n",
       "28        0206      02  [104, 60, 78, 85, 98, 85, 48, 35, 69, 59, 61, ...\n",
       "29        0207      02  [89, 47, 57, 62, 69, 76, 40, 32, 58, 66, 61, 0...\n",
       "..         ...     ...                                                ...\n",
       "382       9621      96                                                NaN\n",
       "383       9623      96                                                NaN\n",
       "384       9625      96                                                NaN\n",
       "385       9627      96                                                NaN\n",
       "386       9629      96                                                NaN\n",
       "387       9631      96                                                NaN\n",
       "388       9633      96                                                NaN\n",
       "389       9635      96                                                NaN\n",
       "390       9637      96                                                NaN\n",
       "391       9639      96                                                NaN\n",
       "392       9641      96                                                NaN\n",
       "393       9643      96                                                NaN\n",
       "394       9645      96                                                NaN\n",
       "395       9701      97                                                NaN\n",
       "396       9702      97                                                NaN\n",
       "397       9703      97                                                NaN\n",
       "398       9704      97                                                NaN\n",
       "399       9705      97                                                NaN\n",
       "400       9706      97                                                NaN\n",
       "401       9707      97                                                NaN\n",
       "402       9708      97                                                NaN\n",
       "403       9709      97                                                NaN\n",
       "404       9710      97                                                NaN\n",
       "405       9711      97                                                NaN\n",
       "406       9712      97                                                NaN\n",
       "407       9713      97                                                NaN\n",
       "408       9821      98                                                NaN\n",
       "409       9823      98                                                NaN\n",
       "410       9825      98                                                NaN\n",
       "411       9827      98                                                NaN\n",
       "\n",
       "[412 rows x 3 columns]"
      ]
     },
     "execution_count": 9,
     "metadata": {},
     "output_type": "execute_result"
    }
   ],
   "source": [
    "ls"
   ]
  },
  {
   "cell_type": "code",
   "execution_count": null,
   "metadata": {},
   "outputs": [],
   "source": [
    "all.head()"
   ]
  },
  {
   "cell_type": "code",
   "execution_count": null,
   "metadata": {},
   "outputs": [],
   "source": [
    "ls.dropna()\n"
   ]
  },
  {
   "cell_type": "code",
   "execution_count": null,
   "metadata": {},
   "outputs": [],
   "source": [
    "ls.to_csv('ls',index=None)"
   ]
  },
  {
   "cell_type": "code",
   "execution_count": null,
   "metadata": {},
   "outputs": [],
   "source": [
    "len(ls)"
   ]
  },
  {
   "cell_type": "code",
   "execution_count": null,
   "metadata": {},
   "outputs": [],
   "source": [
    "his = pd.merge(ls,phy_log_rela,how='left',on='station_id')"
   ]
  },
  {
   "cell_type": "code",
   "execution_count": null,
   "metadata": {},
   "outputs": [],
   "source": [
    "station_n = pd.read_csv('../../project_abnormal_detect/station_info.csv')\n",
    "station_n['station_id'] = station_n['station_id'].apply(lambda x: '%04d'%int(x))\n",
    "his = pd.merge(his,station_n,how='left',on='station_id')"
   ]
  },
  {
   "cell_type": "code",
   "execution_count": null,
   "metadata": {},
   "outputs": [],
   "source": [
    "res = pd.merge(ls,his,on='station_id')"
   ]
  },
  {
   "cell_type": "code",
   "execution_count": null,
   "metadata": {},
   "outputs": [],
   "source": [
    "res.head()"
   ]
  },
  {
   "cell_type": "code",
   "execution_count": null,
   "metadata": {},
   "outputs": [],
   "source": [
    "res.drop(columns=['year_avg_y','line_id_x','line_id_y'],inplace=True)"
   ]
  },
  {
   "cell_type": "code",
   "execution_count": null,
   "metadata": {},
   "outputs": [],
   "source": [
    "res.loc[0,'year_avg_x']"
   ]
  },
  {
   "cell_type": "code",
   "execution_count": null,
   "metadata": {},
   "outputs": [],
   "source": [
    "def second(a):\n",
    "    return a[1]\n",
    "\n",
    "\n",
    "def applyMethod(lista):\n",
    "    lista = eval(lista)\n",
    "    ttt = []\n",
    "    for i,num in enumerate(lista):\n",
    "        ttt.append((i,num))\n",
    "    ttt.sort(reverse=True,key=lambda x:x[1])\n",
    "    indexes = [x[0] for x in ttt][:20]\n",
    "    return str(list(station_arr[indexes]))"
   ]
  },
  {
   "cell_type": "code",
   "execution_count": null,
   "metadata": {},
   "outputs": [],
   "source": [
    "res['top_20_stations'] = res['year_avg_x'].apply(applyMethod)"
   ]
  },
  {
   "cell_type": "code",
   "execution_count": null,
   "metadata": {},
   "outputs": [],
   "source": [
    "res.head()"
   ]
  },
  {
   "cell_type": "code",
   "execution_count": null,
   "metadata": {},
   "outputs": [],
   "source": [
    "ttttt = []\n",
    "for i in range(len(res)):\n",
    "    tmp = res.loc[i,'station_id']\n",
    "    if tmp not in ttttt:\n",
    "        ttttt.append(tmp)\n",
    "    else:\n",
    "        res.drop(index=i,inplace=True)\n",
    "len(res)"
   ]
  },
  {
   "cell_type": "code",
   "execution_count": null,
   "metadata": {},
   "outputs": [],
   "source": [
    "res.reset_index(inplace=True)"
   ]
  },
  {
   "cell_type": "code",
   "execution_count": null,
   "metadata": {},
   "outputs": [],
   "source": [
    "len(res['station_id'].drop_duplicates())"
   ]
  },
  {
   "cell_type": "code",
   "execution_count": null,
   "metadata": {},
   "outputs": [],
   "source": [
    "res"
   ]
  },
  {
   "cell_type": "code",
   "execution_count": null,
   "metadata": {},
   "outputs": [],
   "source": [
    "top_20_list = []\n",
    "\n",
    "stations = eval(res.loc[0,'top_20_stations'])\n",
    "for s in stations:\n",
    "    if s not in top_20_list:\n",
    "        top_20_list.append(s)\n"
   ]
  },
  {
   "cell_type": "code",
   "execution_count": null,
   "metadata": {},
   "outputs": [],
   "source": [
    "res.loc[i,'top_20_stations']"
   ]
  },
  {
   "cell_type": "code",
   "execution_count": null,
   "metadata": {},
   "outputs": [],
   "source": [
    "len(set(top_20_list))"
   ]
  },
  {
   "cell_type": "code",
   "execution_count": null,
   "metadata": {},
   "outputs": [],
   "source": [
    "all_huans = list(phy_log_rela['station_id'].drop_duplicates().values)"
   ]
  },
  {
   "cell_type": "code",
   "execution_count": null,
   "metadata": {},
   "outputs": [],
   "source": [
    "phy_log_rela"
   ]
  },
  {
   "cell_type": "code",
   "execution_count": null,
   "metadata": {},
   "outputs": [],
   "source": [
    "phy_log_rela['line_id'] = phy_log_rela['station_id'].apply(lambda x:x[:2] if len(x)==4 else x[:4])"
   ]
  },
  {
   "cell_type": "code",
   "execution_count": null,
   "metadata": {},
   "outputs": [],
   "source": [
    "def genStationPark(x):\n",
    "    lista = eval(x)\n",
    "    excluede = lista + huans\n",
    "    \n",
    "    "
   ]
  },
  {
   "cell_type": "code",
   "execution_count": null,
   "metadata": {},
   "outputs": [],
   "source": [
    "phy_log_rela[phy_log_rela['line_id']== '10'] "
   ]
  },
  {
   "cell_type": "code",
   "execution_count": null,
   "metadata": {},
   "outputs": [],
   "source": [
    "tmp = station_n.merge(phy_log_rela,on='station_id',how='left')\n",
    "tmp[tmp['line_id'] == 1]"
   ]
  },
  {
   "cell_type": "markdown",
   "metadata": {},
   "source": [
    "# 生成站区编码"
   ]
  },
  {
   "cell_type": "code",
   "execution_count": null,
   "metadata": {},
   "outputs": [],
   "source": [
    "lines = list(ls['line_id'].drop_duplicates().values)\n",
    "lines"
   ]
  },
  {
   "cell_type": "code",
   "execution_count": null,
   "metadata": {},
   "outputs": [],
   "source": [
    "ls"
   ]
  },
  {
   "cell_type": "code",
   "execution_count": null,
   "metadata": {},
   "outputs": [],
   "source": [
    "line = '94'\n",
    "huans = (phy_log_rela[phy_log_rela['line_id'] == line]['station_id'].values)\n",
    "huans"
   ]
  },
  {
   "cell_type": "code",
   "execution_count": null,
   "metadata": {},
   "outputs": [],
   "source": [
    "# for i in range(len(res)):\n",
    "k = 0\n",
    "exclude = list(set(all_huans + eval(res.loc[k,'top_20_stations'])))\n",
    "tmp_mark = ['']*len(station_arr)\n",
    "for line in lines:\n",
    "    indexes = list(ls[ls['line_id'] == line].index)\n",
    "    huans = (phy_log_rela[phy_log_rela['line_id'] == line]['station_id'].values)\n",
    "    max_index = len(huans) -1\n",
    "    for num,i in enumerate(indexes):\n",
    "        station = station_arr[i]\n",
    "        if station in exclude:\n",
    "            tmp_mark[i] = station\n",
    "        else:\n",
    "            if len(huans) == 1:\n",
    "                tmp_mark[i] = huans[0]\n",
    "            else:\n",
    "                for j in range(len(huans)-1):\n",
    "                    if station > huans[j] and station < huans[j+1]:\n",
    "                        tmp_mark[i] = huans[j] + '*' + huans[j+1]\n",
    "                    elif station < huans[j]:\n",
    "                        tmp_mark[i] = '*' + huans[j]\n",
    "                    elif station > huans[j+1]:\n",
    "                        tmp_mark[i] = huans[j+1] +'*'\n",
    "                    else:\n",
    "                        tmp_mark[i] = huans[j]\n",
    "    # res.loc[i,'mark'] = str(tmp_mark)"
   ]
  },
  {
   "cell_type": "code",
   "execution_count": null,
   "metadata": {},
   "outputs": [],
   "source": [
    "# for i in range(len(res)):\n",
    "k = 0\n",
    "exclude = list(set(all_huans + eval(res.loc[k,'top_20_stations'])))\n",
    "tmp_mark = ['']*len(station_arr)\n",
    "lines = ['94']\n",
    "line = '94'\n",
    "indexes = list(ls[ls['line_id'] == line].index)\n",
    "huans = (phy_log_rela[phy_log_rela['line_id'] == line]['station_id'].values)\n",
    "max_index = len(huans) -1\n",
    "for num,i in enumerate(indexes):\n",
    "    station = station_arr[i]\n",
    "    if station in exclude:\n",
    "        tmp_mark[i] = station\n",
    "    else:\n",
    "#             import pdb;pdb.set_trace()\n",
    "        for j in range(len(huans)-1):\n",
    "            if station > huans[j] and station < huans[j+1]:\n",
    "                tmp_mark[i] = huans[j] + '*' + huans[j+1]\n",
    "            elif station < huans[j]:\n",
    "                tmp_mark[i] = '*' + huans[j]\n",
    "            elif station > huans[j+1]:\n",
    "                tmp_mark[i] = huans[j+1] +'*'\n",
    "# res.loc[i,'mark'] = str(tmp_mark)"
   ]
  },
  {
   "cell_type": "code",
   "execution_count": null,
   "metadata": {},
   "outputs": [],
   "source": [
    "tmp_mark\n",
    "# tmp_index = []\n",
    "# for ss in range(len(tmp_mark)):\n",
    "#     if tmp_mark[ss] == '':\n",
    "#         tmp_index.append(ss)\n",
    "# print(station_arr[tmp_index])\n",
    "# print(tmp_index)"
   ]
  },
  {
   "cell_type": "code",
   "execution_count": null,
   "metadata": {},
   "outputs": [],
   "source": [
    "huans = (phy_log_rela[phy_log_rela['line_id'] == '14']['station_id'].values)\n",
    "huans"
   ]
  },
  {
   "cell_type": "code",
   "execution_count": null,
   "metadata": {},
   "outputs": [],
   "source": [
    "num = 0;i = 358\n",
    "station = station_arr[i]\n",
    "station"
   ]
  },
  {
   "cell_type": "code",
   "execution_count": null,
   "metadata": {},
   "outputs": [],
   "source": [
    "j = 0\n"
   ]
  },
  {
   "cell_type": "code",
   "execution_count": null,
   "metadata": {},
   "outputs": [],
   "source": []
  },
  {
   "cell_type": "code",
   "execution_count": null,
   "metadata": {},
   "outputs": [],
   "source": []
  },
  {
   "cell_type": "code",
   "execution_count": null,
   "metadata": {},
   "outputs": [],
   "source": [
    "res['sation_id'] = '1449'"
   ]
  },
  {
   "cell_type": "code",
   "execution_count": null,
   "metadata": {},
   "outputs": [],
   "source": [
    "station_arr[tmp]"
   ]
  },
  {
   "cell_type": "code",
   "execution_count": null,
   "metadata": {},
   "outputs": [],
   "source": [
    "station_arr"
   ]
  },
  {
   "cell_type": "code",
   "execution_count": null,
   "metadata": {},
   "outputs": [],
   "source": [
    "[i for i in huans if i[:2]=='10']"
   ]
  },
  {
   "cell_type": "code",
   "execution_count": null,
   "metadata": {
    "scrolled": true
   },
   "outputs": [],
   "source": [
    "pd.set_option('display.max_rows', None)  # 行\n",
    "ls"
   ]
  },
  {
   "cell_type": "code",
   "execution_count": null,
   "metadata": {},
   "outputs": [],
   "source": [
    "(phy_log_rela[phy_log_rela['line_id'] == '01']['station_id'].values)"
   ]
  },
  {
   "cell_type": "code",
   "execution_count": null,
   "metadata": {},
   "outputs": [],
   "source": [
    "list(res[res['line_id'] == '98'].index)"
   ]
  },
  {
   "cell_type": "code",
   "execution_count": null,
   "metadata": {},
   "outputs": [],
   "source": [
    "res.tail()"
   ]
  },
  {
   "cell_type": "code",
   "execution_count": null,
   "metadata": {},
   "outputs": [],
   "source": [
    "res[(res['line_id'] != '83') & (res['line_id'] != '84') & (res['line_id'] != '85') & (res['line_id'] != '93') & (res['line_id'] != '04')]"
   ]
  },
  {
   "cell_type": "code",
   "execution_count": null,
   "metadata": {},
   "outputs": [],
   "source": [
    "station_arr"
   ]
  },
  {
   "cell_type": "code",
   "execution_count": null,
   "metadata": {},
   "outputs": [],
   "source": [
    "res[res['station_id'] == '0115']"
   ]
  },
  {
   "cell_type": "code",
   "execution_count": null,
   "metadata": {},
   "outputs": [],
   "source": [
    "res.drop(index=[12],inplace=True)"
   ]
  },
  {
   "cell_type": "code",
   "execution_count": null,
   "metadata": {},
   "outputs": [],
   "source": [
    "res.reset_index(drop=True)"
   ]
  },
  {
   "cell_type": "code",
   "execution_count": null,
   "metadata": {},
   "outputs": [],
   "source": [
    "res[res['line_id']=='04']"
   ]
  },
  {
   "cell_type": "code",
   "execution_count": null,
   "metadata": {},
   "outputs": [],
   "source": [
    "his[his['line_id_x'] == '85']"
   ]
  },
  {
   "cell_type": "code",
   "execution_count": null,
   "metadata": {},
   "outputs": [],
   "source": [
    "ls[ls['line_id'] == '04']"
   ]
  },
  {
   "cell_type": "code",
   "execution_count": null,
   "metadata": {},
   "outputs": [],
   "source": [
    "res.to_csv('res',index=None)"
   ]
  },
  {
   "cell_type": "code",
   "execution_count": null,
   "metadata": {},
   "outputs": [],
   "source": [
    "ls.to_csv('ls',index=None)"
   ]
  },
  {
   "cell_type": "code",
   "execution_count": null,
   "metadata": {},
   "outputs": [],
   "source": [
    "ls['line_id'].drop_duplicates()"
   ]
  },
  {
   "cell_type": "code",
   "execution_count": null,
   "metadata": {},
   "outputs": [],
   "source": [
    "ls[ls['line_id']=='84']"
   ]
  },
  {
   "cell_type": "code",
   "execution_count": null,
   "metadata": {},
   "outputs": [],
   "source": []
  }
 ],
 "metadata": {
  "kernelspec": {
   "display_name": "Python 3",
   "language": "python",
   "name": "python3"
  },
  "language_info": {
   "codemirror_mode": {
    "name": "ipython",
    "version": 3
   },
   "file_extension": ".py",
   "mimetype": "text/x-python",
   "name": "python",
   "nbconvert_exporter": "python",
   "pygments_lexer": "ipython3",
   "version": "3.5.6"
  }
 },
 "nbformat": 4,
 "nbformat_minor": 2
}
